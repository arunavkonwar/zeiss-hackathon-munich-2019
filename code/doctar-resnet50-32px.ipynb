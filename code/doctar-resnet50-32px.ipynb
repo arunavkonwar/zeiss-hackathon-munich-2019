{
 "cells": [
  {
   "cell_type": "code",
   "execution_count": 1,
   "metadata": {},
   "outputs": [],
   "source": [
    "import os\n",
    "os.environ[\"CUDA_DEVICE_ORDER\"] = \"PCI_BUS_ID\" # so the IDs match nvidia-smi\n",
    "os.environ[\"CUDA_VISIBLE_DEVICES\"] = str(3) # \"0, 1\" for multiple"
   ]
  },
  {
   "cell_type": "code",
   "execution_count": 2,
   "metadata": {},
   "outputs": [
    {
     "name": "stderr",
     "output_type": "stream",
     "text": [
      "/data/anaconda/envs/py35/lib/python3.5/site-packages/h5py/__init__.py:36: FutureWarning: Conversion of the second argument of issubdtype from `float` to `np.floating` is deprecated. In future, it will be treated as `np.float64 == np.dtype(float).type`.\n",
      "  from ._conv import register_converters as _register_converters\n",
      "Using TensorFlow backend.\n"
     ]
    }
   ],
   "source": [
    "import keras\n",
    "from keras.models import Sequential\n",
    "from keras.layers import Activation\n",
    "from keras.layers.core import Dense, Flatten\n",
    "from keras.optimizers import Adam\n",
    "from keras.metrics import categorical_crossentropy\n",
    "from keras.layers.normalization import BatchNormalization\n",
    "#from keras.layers.convolutional import *\n",
    "import matplotlib.pyplot as plt\n",
    "from keras.utils import plot_model \n",
    "from keras import models\n",
    "from keras import layers\n",
    "from keras.preprocessing.image import ImageDataGenerator\n",
    "from keras.callbacks import ModelCheckpoint, EarlyStopping\n",
    "from keras.backend import tf as ktf"
   ]
  },
  {
   "cell_type": "code",
   "execution_count": 3,
   "metadata": {},
   "outputs": [],
   "source": [
    "img_width=96\n",
    "img_height=96\n",
    "\n",
    "train_data_dir=\"../data/train\"\n",
    "test_data_dir=\"../data/test\"\n",
    "\n",
    "batch_size=64\n",
    "\n",
    "nb_train_samples=176021\n",
    "nb_test_samples=44004\n",
    "\n",
    "epochs = 10"
   ]
  },
  {
   "cell_type": "code",
   "execution_count": 4,
   "metadata": {},
   "outputs": [
    {
     "name": "stderr",
     "output_type": "stream",
     "text": [
      "/data/anaconda/envs/py35/lib/python3.5/site-packages/keras_applications/resnet50.py:265: UserWarning: The output shape of `ResNet50(include_top=False)` has been changed since Keras 2.2.0.\n",
      "  warnings.warn('The output shape of `ResNet50(include_top=False)` '\n"
     ]
    },
    {
     "name": "stdout",
     "output_type": "stream",
     "text": [
      "_________________________________________________________________\n",
      "Layer (type)                 Output Shape              Param #   \n",
      "=================================================================\n",
      "resnet50 (Model)             (None, 3, 3, 2048)        23587712  \n",
      "_________________________________________________________________\n",
      "flatten_1 (Flatten)          (None, 18432)             0         \n",
      "_________________________________________________________________\n",
      "dense_1 (Dense)              (None, 2)                 36866     \n",
      "_________________________________________________________________\n",
      "activation_50 (Activation)   (None, 2)                 0         \n",
      "=================================================================\n",
      "Total params: 23,624,578\n",
      "Trainable params: 21,399,042\n",
      "Non-trainable params: 2,225,536\n",
      "_________________________________________________________________\n",
      "175\n",
      "140.0\n"
     ]
    }
   ],
   "source": [
    "resnet = keras.applications.resnet50.ResNet50(include_top=False, weights='imagenet', input_tensor=None, input_shape=(96,96,3), classes=1000)\n",
    "\n",
    "model = models.Sequential()\n",
    "model.add(resnet)\n",
    "model.add(layers.Flatten())\n",
    "model.add(Dense(2))\n",
    "model.add(Activation('relu'))\n",
    "#for 2 axis\n",
    "#model.add(Dense(2, activation=None))\n",
    "#for 3 axis\n",
    "#model.add(Dense(3, activation=None))\n",
    "#model.add(Dense(4, activation=None))\n",
    "\n",
    "\n",
    "layer_num = len(resnet.layers)\n",
    "\n",
    "for layer in resnet.layers[:int(layer_num * 0.9)]:\n",
    "        layer.trainable = False\n",
    "        \n",
    "model.load_weights('checkpoints/pathology_resnet50_32px.04-0.42.hdf5')\n",
    "\n",
    "for layer in resnet.layers[:int(layer_num * 0.5)]:\n",
    "        layer.trainable = False\n",
    "        \n",
    "for layer in resnet.layers[int(layer_num * 0.5):]:\n",
    "        layer.trainable = True\n",
    "        \n",
    "model_num = len(model.layers)\n",
    "\n",
    "\n",
    "model.summary()\n",
    "print (len(resnet.layers))\n",
    "print(layer_num * 0.8)"
   ]
  },
  {
   "cell_type": "code",
   "execution_count": 5,
   "metadata": {},
   "outputs": [],
   "source": [
    "adam = Adam(lr=0.0001, beta_1=0.9, beta_2=0.999, epsilon=None, decay=0.0, amsgrad=False)\n"
   ]
  },
  {
   "cell_type": "code",
   "execution_count": 6,
   "metadata": {},
   "outputs": [],
   "source": [
    "#model.load_weights('checkpoints/pathology_resnet50_32px.04-0.42.hdf5')"
   ]
  },
  {
   "cell_type": "code",
   "execution_count": 7,
   "metadata": {},
   "outputs": [],
   "source": [
    "model.compile(optimizer=adam, loss='categorical_crossentropy', metrics=['accuracy'])"
   ]
  },
  {
   "cell_type": "code",
   "execution_count": 8,
   "metadata": {},
   "outputs": [],
   "source": [
    "# Save the model according to the conditions  \n",
    "checkpoint = ModelCheckpoint(\"checkpoints/pathology_resnet50_32px_50percent.{epoch:02d}-{val_loss:.2f}.hdf5\", monitor='val_acc', verbose=1, save_best_only=True, save_weights_only=False, mode='auto', period=1)\n",
    "early = EarlyStopping(monitor='val_acc', min_delta=0, patience=10, verbose=1, mode='auto')\n"
   ]
  },
  {
   "cell_type": "code",
   "execution_count": 9,
   "metadata": {},
   "outputs": [],
   "source": [
    "import cv2\n",
    "def crop(image):\n",
    "    #print(\"pre: \",image.shape)\n",
    "    image = image[32:64, 32:64, ::]\n",
    "    #print(\"after: \",image.shape)\n",
    "    original_size = (image.shape[1], image.shape[0])\n",
    "    image = cv2.resize(image, (img_height, img_width))\n",
    "    #print(\"scale: \",image.shape)\n",
    "    return image"
   ]
  },
  {
   "cell_type": "code",
   "execution_count": 10,
   "metadata": {},
   "outputs": [],
   "source": [
    "# Initiate the train and test generators with data Augumentation \n",
    "train_datagen = ImageDataGenerator(\n",
    "rescale = 1./255,\n",
    "preprocessing_function=crop)\n",
    "\n",
    "test_datagen = ImageDataGenerator(\n",
    "rescale = 1./255,\n",
    "preprocessing_function=crop)"
   ]
  },
  {
   "cell_type": "code",
   "execution_count": 11,
   "metadata": {},
   "outputs": [
    {
     "name": "stdout",
     "output_type": "stream",
     "text": [
      "Found 176021 images belonging to 2 classes.\n",
      "Found 44004 images belonging to 2 classes.\n"
     ]
    }
   ],
   "source": [
    "train_generator = train_datagen.flow_from_directory(\n",
    "train_data_dir,\n",
    "target_size = (img_height, img_width),\n",
    "batch_size = batch_size, \n",
    "class_mode = \"categorical\")\n",
    "\n",
    "test_generator = test_datagen.flow_from_directory(\n",
    "test_data_dir,\n",
    "target_size = (img_height, img_width),\n",
    "class_mode = \"categorical\")"
   ]
  },
  {
   "cell_type": "code",
   "execution_count": 12,
   "metadata": {
    "scrolled": true
   },
   "outputs": [
    {
     "name": "stdout",
     "output_type": "stream",
     "text": [
      "Epoch 1/10\n",
      "2751/2750 [==============================] - 999s 363ms/step - loss: 0.4063 - acc: 0.8317 - val_loss: 0.4025 - val_acc: 0.8297\n",
      "\n",
      "Epoch 00001: val_acc improved from -inf to 0.82967, saving model to checkpoints/pathology_resnet50_32px_50percent.01-0.40.hdf5\n",
      "Epoch 2/10\n",
      "2751/2750 [==============================] - 990s 360ms/step - loss: 0.3694 - acc: 0.8482 - val_loss: 0.3765 - val_acc: 0.8506\n",
      "\n",
      "Epoch 00002: val_acc improved from 0.82967 to 0.85065, saving model to checkpoints/pathology_resnet50_32px_50percent.02-0.38.hdf5\n",
      "Epoch 3/10\n",
      "2751/2750 [==============================] - 996s 362ms/step - loss: 0.3310 - acc: 0.8680 - val_loss: 0.3563 - val_acc: 0.8622\n",
      "\n",
      "Epoch 00003: val_acc improved from 0.85065 to 0.86224, saving model to checkpoints/pathology_resnet50_32px_50percent.03-0.36.hdf5\n",
      "Epoch 4/10\n",
      "2751/2750 [==============================] - 993s 361ms/step - loss: 0.3073 - acc: 0.8780 - val_loss: 0.3581 - val_acc: 0.8582\n",
      "\n",
      "Epoch 00004: val_acc did not improve from 0.86224\n",
      "Epoch 5/10\n",
      "2751/2750 [==============================] - 995s 362ms/step - loss: 0.2776 - acc: 0.8931 - val_loss: 0.3575 - val_acc: 0.8633\n",
      "\n",
      "Epoch 00005: val_acc improved from 0.86224 to 0.86328, saving model to checkpoints/pathology_resnet50_32px_50percent.05-0.36.hdf5\n",
      "Epoch 6/10\n",
      "2751/2750 [==============================] - 994s 361ms/step - loss: 0.2595 - acc: 0.9019 - val_loss: 0.3933 - val_acc: 0.8659\n",
      "\n",
      "Epoch 00006: val_acc improved from 0.86328 to 0.86588, saving model to checkpoints/pathology_resnet50_32px_50percent.06-0.39.hdf5\n",
      "Epoch 7/10\n",
      "2751/2750 [==============================] - 995s 362ms/step - loss: 0.2132 - acc: 0.9222 - val_loss: 0.4241 - val_acc: 0.8577\n",
      "\n",
      "Epoch 00007: val_acc did not improve from 0.86588\n",
      "Epoch 8/10\n",
      "2751/2750 [==============================] - 997s 362ms/step - loss: 0.2066 - acc: 0.9271 - val_loss: 0.4636 - val_acc: 0.8575\n",
      "\n",
      "Epoch 00008: val_acc did not improve from 0.86588\n",
      "Epoch 9/10\n",
      "2751/2750 [==============================] - 993s 361ms/step - loss: 0.1842 - acc: 0.9377 - val_loss: 0.4522 - val_acc: 0.8494\n",
      "\n",
      "Epoch 00009: val_acc did not improve from 0.86588\n",
      "Epoch 10/10\n",
      "2751/2750 [==============================] - 994s 361ms/step - loss: 0.2249 - acc: 0.9209 - val_loss: 0.5445 - val_acc: 0.8403\n",
      "\n",
      "Epoch 00010: val_acc did not improve from 0.86588\n"
     ]
    }
   ],
   "source": [
    "model_final = model\n",
    "# Train the model \n",
    "\n",
    "with ktf.device(\"/device:GPU:3\"):\n",
    "    model_final.fit_generator(\n",
    "    train_generator,\n",
    "    steps_per_epoch = nb_train_samples/batch_size,\n",
    "    epochs = epochs,\n",
    "    validation_data = test_generator,\n",
    "    validation_steps = nb_test_samples/batch_size,\n",
    "    callbacks = [checkpoint, early])"
   ]
  }
 ],
 "metadata": {
  "kernelspec": {
   "display_name": "Python [conda env:py35]",
   "language": "python",
   "name": "conda-env-py35-py"
  },
  "language_info": {
   "codemirror_mode": {
    "name": "ipython",
    "version": 3
   },
   "file_extension": ".py",
   "mimetype": "text/x-python",
   "name": "python",
   "nbconvert_exporter": "python",
   "pygments_lexer": "ipython3",
   "version": "3.5.5"
  }
 },
 "nbformat": 4,
 "nbformat_minor": 2
}
